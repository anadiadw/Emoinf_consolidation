{
 "cells": [
  {
   "cell_type": "markdown",
   "metadata": {
    "id": "WTR_5W_fnMCA"
   },
   "source": [
    "This takes\n",
    "- a CSV file specific to the participant titled \"###_results.csv\"\n",
    "- a CSV file with all previous participants titled \"master_results.csv\"\n",
    "\n",
    "This outputs\n",
    "- a CSV file with all participants (including the participant added) titled \"master_results.csv\" (hover over master_results.csv in the files sidebar to see last update time after running script)\n",
    "\n",
    "NOTE: This code was originally written to add one participant at a time as they were run, but has been edited to add all participants at once. [AN] Hence this WILL DUPLICATE THE PARTICIPANTS IF THEY ARE IN THE SAME FOLDER WHICH THEY ARE!"
   ]
  },
  {
   "cell_type": "code",
   "execution_count": 1,
   "metadata": {
    "id": "nRVXyXA_--qy"
   },
   "outputs": [],
   "source": [
    "import pandas as pd"
   ]
  },
  {
   "cell_type": "code",
   "execution_count": 7,
   "metadata": {
    "id": "NxxSsvs8IJka",
    "scrolled": true
   },
   "outputs": [],
   "source": [
    "#find file to be added\n",
    "#CMAsum_fldr = '/Users/ayesh/Desktop/Gradstuff/contingentproject/EmoInf_consolidation/CMA_data/summarized_pt/'\n",
    "sum_fldr = '/Users/ayesh/Desktop/Gradstuff/contingentproject/EmoInf_consolidation/Khanh/summarized_pt/'\n",
    "for i in list(range(2,41)):\n",
    "  #parInput = input(\"Participant Number?\")\n",
    "  parInput = str(i).zfill(3) # for Khanh's zfill = 2\n",
    "  add_file = str(parInput) + \"_results.csv\"\n",
    "\n",
    "  #open master file\n",
    "  master_df = pd.read_csv(sum_fldr + \"master_results.csv\")\n",
    "\n",
    "  #open file to be added\n",
    "  add_df = pd.read_csv(sum_fldr + add_file)\n",
    "\n",
    "  new_master = master_df.append(add_df)\n",
    "\n",
    "  new_master.to_csv(sum_fldr + \"master_results.csv\", index = False, header = True)"
   ]
  },
  {
   "cell_type": "code",
   "execution_count": null,
   "metadata": {
    "id": "DEMxTh7pmvGe"
   },
   "outputs": [],
   "source": [
    "#run in case of accidentally adding a row twice\n",
    "#removes the last row from the master_df\n",
    "\n",
    "#master_df.drop(master_df.tail(1).index,inplace=True)"
   ]
  }
 ],
 "metadata": {
  "colab": {
   "provenance": []
  },
  "kernelspec": {
   "display_name": "Python 3",
   "language": "python",
   "name": "python3"
  },
  "language_info": {
   "codemirror_mode": {
    "name": "ipython",
    "version": 3
   },
   "file_extension": ".py",
   "mimetype": "text/x-python",
   "name": "python",
   "nbconvert_exporter": "python",
   "pygments_lexer": "ipython3",
   "version": "3.8.5"
  }
 },
 "nbformat": 4,
 "nbformat_minor": 1
}
