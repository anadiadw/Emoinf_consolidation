{
 "cells": [
  {
   "cell_type": "code",
   "execution_count": 3,
   "metadata": {},
   "outputs": [],
   "source": [
    "import pandas as pd\n",
    "import numpy as np\n",
    "import os\n",
    "from os import listdir\n",
    "import glob\n",
    "from glob import glob\n",
    "from os.path import isfile, join\n",
    "import shutil\n",
    "import PIL\n",
    "from PIL import Image\n",
    "import random\n",
    "import scipy as sp\n",
    "from scipy import stats\n",
    "import seaborn as sns\n",
    "from matplotlib import pyplot as plt"
   ]
  },
  {
   "cell_type": "code",
   "execution_count": 4,
   "metadata": {},
   "outputs": [
    {
     "name": "stdout",
     "output_type": "stream",
     "text": [
      "['Participant', 'AB1allCorr', 'AB1neuCorr', 'AB1fearCorr', 'AB1allAcc', 'AB1neuAcc', 'AB1fearAcc', 'AB1allRT', 'AB1neuRT', 'AB1fearRT', 'AB2allCorr', 'AB2neuCorr', 'AB2fearCorr', 'AB2allAcc', 'AB2neuAcc', 'AB2fearAcc', 'AB2allRT', 'AB2neuRT', 'AB2fearRT', 'AB3allCorr', 'AB3neuCorr', 'AB3fearCorr', 'AB3allAcc', 'AB3neuAcc', 'AB3fearAcc', 'AB3allRT', 'AB3neuRT', 'AB3fearRT', 'BCXYallCorr', 'BCallCorr', 'BCneuCorr', 'BCfearCorr', 'XYallCorr', 'XYneuCorr', 'XYfearCorr', 'BCallAcc', 'BCneuAcc', 'BCfearAcc', 'BCTot', 'BCneuTot', 'BCfearTot', 'XYallAcc', 'XYneuAcc', 'XYfearAcc', 'XYTot', 'XYneuTot', 'XYfearTot', 'BCXYallRT', 'BCneuRT', 'BCfearRT', 'XYneuRT', 'XYfearRT', 'ACallCorr', 'ACneuCorr', 'ACfearCorr', 'ACallAcc', 'ACneuAcc', 'ACfearAcc', 'adjACallAcc', 'adjACneuAcc', 'adjACfearAcc', 'adjACLen', 'ACallRT', 'ACneuRT', 'ACfearRT', 'ACxallCorr', 'ACxneuCorr', 'ACxfearCorr', 'ACxallAcc', 'ACxneuAcc', 'ACxfearAcc', 'adjACxallAcc', 'adjACxneuAcc', 'adjACxfearAcc', 'adjACxLen', 'ACxallRT', 'ACxneuRT', 'ACxfearRT', 'DIRallCorr', 'dABallCorr', 'dABneuCorr', 'dABfearCorr', 'dBCallCorr', 'dBCneuCorr', 'dBCfearCorr', 'dXYallCorr', 'dXYneuCorr', 'dXYfearCorr', 'dABallTot', 'dABneuTot', 'dABfearTot', 'dBCallTot', 'dBCneuTot', 'dBCfearTot', 'dXYallTot', 'dXYneuTot', 'dXYfearTot', 'dABallAcc', 'dABneuAcc', 'dABfearAcc', 'dBCallAcc', 'dBCneuAcc', 'dBCfearAcc', 'dXYallAcc', 'dXYneuAcc', 'dXYfearAcc', 'DIRallRT', 'dABneuRT', 'dABfearRT', 'dBCneuRT', 'dBCfearRT', 'dXYneuRT', 'dXYfearRT', 'score1', 'score2', 'rate1', 'rate2', 'alert1', 'alert2', 'sleep1', 'sleep2', 'caff1', 'caff2', 'alc1', 'alc2']\n"
     ]
    }
   ],
   "source": [
    "df_csv = pd.DataFrame(pd.read_csv('/Users/ayesh/Desktop/Gradstuff/contingentproject/EmoInf_consolidation/CMA_data/summarized_pt/master_results.csv'))\n",
    "print(list(df_csv.columns))"
   ]
  },
  {
   "cell_type": "code",
   "execution_count": 5,
   "metadata": {},
   "outputs": [
    {
     "data": {
      "text/plain": [
       "0     0.020833\n",
       "1     0.125000\n",
       "2    -0.041667\n",
       "3    -0.104167\n",
       "4     0.041667\n",
       "5     0.062500\n",
       "6     0.104167\n",
       "7     0.000000\n",
       "8    -0.020833\n",
       "9     0.145833\n",
       "10    0.083333\n",
       "11    0.020833\n",
       "12   -0.041667\n",
       "13    0.125000\n",
       "14    0.041667\n",
       "15   -0.062500\n",
       "16   -0.041667\n",
       "17    0.208333\n",
       "18   -0.166667\n",
       "19    0.270833\n",
       "20    0.062500\n",
       "21   -0.020833\n",
       "22   -0.062500\n",
       "23    0.250000\n",
       "24    0.000000\n",
       "25   -0.062500\n",
       "26    0.041667\n",
       "27   -0.104167\n",
       "28   -0.145833\n",
       "29   -0.041667\n",
       "30   -0.145833\n",
       "31   -0.020833\n",
       "dtype: float64"
      ]
     },
     "execution_count": 5,
     "metadata": {},
     "output_type": "execute_result"
    }
   ],
   "source": [
    "# difference in BC XY to predict AC performance?\n",
    "BCXY_diff = df_csv.BCallAcc - df_csv.XYallAcc\n",
    "BCXY_diff"
   ]
  },
  {
   "cell_type": "code",
   "execution_count": 6,
   "metadata": {},
   "outputs": [],
   "source": [
    "\n",
    "short_df = pd.DataFrame({\"Participant\": df_csv.Participant,\n",
    "                        \"AB3_neu\": df_csv.AB3neuAcc,\n",
    "                        \"AB3_fear\": df_csv.AB3fearAcc,\n",
    "                         \"BC_neu\": df_csv.BCneuAcc,\n",
    "                        \"BC_fear\": df_csv.BCfearAcc,\n",
    "                         \"XY_neu\": df_csv.XYneuAcc,\n",
    "                        \"XY_fear\": df_csv.XYfearAcc,\n",
    "                         \"AC_neu\": df_csv.adjACneuAcc,\n",
    "                        \"AC_fear\": df_csv.adjACfearAcc,\n",
    "                         \"srcACall\": df_csv.adjACallAcc,\n",
    "                         \"AC_allAcc\" : df_csv.ACallAcc,\n",
    "                         \"ACneuAcc\" : df_csv.ACneuAcc,\n",
    "                         \"ACfearAcc\" : df_csv.ACfearAcc,\n",
    "                         \"dABneuAcc\" : df_csv.dABneuAcc,\n",
    "                         \"dABfearAcc\" : df_csv.dABfearAcc,\n",
    "                         \"dBCneuAcc\" : df_csv.dBCneuAcc,\n",
    "                         \"dBCfearAcc\" : df_csv.dBCfearAcc,\n",
    "                         \"BCXY_diff\" : BCXY_diff,\n",
    "                         \"rate1\" : df_csv.rate1,\n",
    "                         \"rate2\" : df_csv.rate2,\n",
    "                         \"alert1\" : df_csv.alert1,\n",
    "                         \"alert2\" :df_csv.alert2,\n",
    "                         \"sleep1\" : df_csv.sleep1,\n",
    "                         \"sleep2\" : df_csv.sleep2,\n",
    "                         \"caff1\" :df_csv.caff1,\n",
    "                         \"caff2\" :df_csv.caff2,\n",
    "                         \"alc1\" : df_csv.alc1,\n",
    "                         \"alc2\" :df_csv.alc2\n",
    "                        })"
   ]
  },
  {
   "cell_type": "code",
   "execution_count": 7,
   "metadata": {},
   "outputs": [],
   "source": [
    "short_df.loc[short_df['rate1'] == \"no or low anxiety\", 'rate1'] = 1\n",
    "short_df.loc[short_df['rate2'] == \"no or low anxiety\", 'rate2'] = 1\n",
    "\n",
    "short_df.loc[short_df['rate1'] == \"moderate anxiety\", 'rate1'] = 2\n",
    "short_df.loc[short_df['rate2'] == \"moderate anxiety\", 'rate2'] = 2\n",
    "\n",
    "short_df.loc[short_df['rate1'] == \"high anxiety\", 'rate1'] = 3\n",
    "short_df.loc[short_df['rate2'] == \"high anxiety\", 'rate2'] = 3"
   ]
  },
  {
   "cell_type": "code",
   "execution_count": 10,
   "metadata": {},
   "outputs": [
    {
     "name": "stdout",
     "output_type": "stream",
     "text": [
      "11 21\n"
     ]
    }
   ],
   "source": [
    "# split by AC high performers and low performers co-relation\n",
    "high_diff = []\n",
    "low_diff = []\n",
    "\n",
    "for index, row in df_csv.iterrows():\n",
    "    if (df_csv.ACneuAcc[index]-df_csv.ACfearAcc[index]) <= 0:\n",
    "        low_diff.append(row)\n",
    "    if (df_csv.ACneuAcc[index]-df_csv.ACfearAcc[index]) > 0:\n",
    "        high_diff.append(row)\n",
    "\n",
    "print(len(low_diff), len(high_diff))\n",
    "low_diff = pd.DataFrame(low_diff)\n",
    "high_diff = pd.DataFrame(high_diff)"
   ]
  },
  {
   "cell_type": "code",
   "execution_count": 11,
   "metadata": {},
   "outputs": [],
   "source": [
    "short_df.to_csv('/Users/ayesh/Desktop/Gradstuff/contingentproject/EmoInf_consolidation/CMA_data/CMA-analysis/corrs_sum.csv')\n",
    "low_diff.to_csv('/Users/ayesh/Desktop/Gradstuff/contingentproject/EmoInf_consolidation/CMA_data/CMA-analysis/lowdiff.csv')\n",
    "high_diff.to_csv('/Users/ayesh/Desktop/Gradstuff/contingentproject/EmoInf_consolidation/CMA_data/CMA-analysis/highdiff.csv')"
   ]
  },
  {
   "cell_type": "markdown",
   "metadata": {},
   "source": [
    "## IN R!!"
   ]
  },
  {
   "cell_type": "code",
   "execution_count": 4,
   "metadata": {},
   "outputs": [],
   "source": [
    "# correlate AC accuracy with both day 1 (scr controlled already have) and day 2 accuracies (overall!)\n",
    "# correlate with anxiety, sleep, caffeine, alcohol\n"
   ]
  }
 ],
 "metadata": {
  "kernelspec": {
   "display_name": "Python 3",
   "language": "python",
   "name": "python3"
  },
  "language_info": {
   "codemirror_mode": {
    "name": "ipython",
    "version": 3
   },
   "file_extension": ".py",
   "mimetype": "text/x-python",
   "name": "python",
   "nbconvert_exporter": "python",
   "pygments_lexer": "ipython3",
   "version": "3.8.5"
  }
 },
 "nbformat": 4,
 "nbformat_minor": 4
}
